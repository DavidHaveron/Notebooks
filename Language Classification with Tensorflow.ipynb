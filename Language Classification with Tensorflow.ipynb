{
 "cells": [
  {
   "cell_type": "code",
   "execution_count": null,
   "metadata": {},
   "outputs": [],
   "source": [
    "\"\"\"\n",
    "\n",
    "Notebook instructions:\n",
    "    \n",
    "    1. Open notebook in the same directory as the lang_data.csv file provided and ensure a subdirectory 'models' has been created.\n",
    "    2. Run the libraries window and ensure the necessary libraries are installed and successfully loaded.\n",
    "        -> if the libraries are not installed use cmd terminal with: pip install *library name* or use the jupyter cell \n",
    "            with: !pip install *library name*\n",
    "    3. Execute all cells to create the training/test dataset, train the model and finally export the model.\n",
    "    4. This notebook is just to gain additional application experience\n",
    "    \n",
    "    NOTE: This notebook has been inspired from the origional author Łukasz Kamieniecki - Mruk and his origional work can be found here:\n",
    "        -> http://machinelearningexp.com/deep-learning-language-identification-using-keras-tensorflow/\n",
    "\n",
    "    \n",
    "\"\"\""
   ]
  },
  {
   "cell_type": "code",
   "execution_count": 1,
   "metadata": {},
   "outputs": [
    {
     "name": "stderr",
     "output_type": "stream",
     "text": [
      "C:\\Users\\haver\\AppData\\Local\\Continuum\\anaconda3\\lib\\site-packages\\h5py\\__init__.py:36: FutureWarning: Conversion of the second argument of issubdtype from `float` to `np.floating` is deprecated. In future, it will be treated as `np.float64 == np.dtype(float).type`.\n",
      "  from ._conv import register_converters as _register_converters\n",
      "Using TensorFlow backend.\n"
     ]
    }
   ],
   "source": [
    "# import the necessary libraries\n",
    "\n",
    "import re\n",
    "import random\n",
    "import pandas as pd\n",
    "import numpy as np\n",
    "import seaborn as sns\n",
    "import matplotlib.pyplot as plt\n",
    "%matplotlib inline\n",
    "from sklearn.model_selection import train_test_split\n",
    "from sklearn import preprocessing\n",
    "from sklearn.metrics import classification_report\n",
    "import keras\n",
    "from keras.models import Sequential\n",
    "from keras.layers import Dense\n",
    "from keras.layers import Dropout\n",
    "import keras.optimizers\n"
   ]
  },
  {
   "cell_type": "code",
   "execution_count": 2,
   "metadata": {},
   "outputs": [
    {
     "name": "stdout",
     "output_type": "stream",
     "text": [
      "This dataset has 2839 observations and 2 columns containing the instance example and its predictor.\n",
      "There are 3 distinct language categories: English, Afrikaans and Nederlands\n"
     ]
    },
    {
     "data": {
      "text/html": [
       "<div>\n",
       "<style scoped>\n",
       "    .dataframe tbody tr th:only-of-type {\n",
       "        vertical-align: middle;\n",
       "    }\n",
       "\n",
       "    .dataframe tbody tr th {\n",
       "        vertical-align: top;\n",
       "    }\n",
       "\n",
       "    .dataframe thead th {\n",
       "        text-align: right;\n",
       "    }\n",
       "</style>\n",
       "<table border=\"1\" class=\"dataframe\">\n",
       "  <thead>\n",
       "    <tr style=\"text-align: right;\">\n",
       "      <th></th>\n",
       "      <th>text</th>\n",
       "      <th>language</th>\n",
       "    </tr>\n",
       "  </thead>\n",
       "  <tbody>\n",
       "    <tr>\n",
       "      <th>0</th>\n",
       "      <td>Ship shape and Bristol fashion</td>\n",
       "      <td>English</td>\n",
       "    </tr>\n",
       "    <tr>\n",
       "      <th>1</th>\n",
       "      <td>Know the ropes</td>\n",
       "      <td>English</td>\n",
       "    </tr>\n",
       "    <tr>\n",
       "      <th>2</th>\n",
       "      <td>Graveyard shift</td>\n",
       "      <td>English</td>\n",
       "    </tr>\n",
       "    <tr>\n",
       "      <th>3</th>\n",
       "      <td>Milk of human kindness</td>\n",
       "      <td>English</td>\n",
       "    </tr>\n",
       "    <tr>\n",
       "      <th>4</th>\n",
       "      <td>Touch with a barge-pole - Wouldn't</td>\n",
       "      <td>English</td>\n",
       "    </tr>\n",
       "  </tbody>\n",
       "</table>\n",
       "</div>"
      ],
      "text/plain": [
       "                                 text language\n",
       "0      Ship shape and Bristol fashion  English\n",
       "1                      Know the ropes  English\n",
       "2                     Graveyard shift  English\n",
       "3              Milk of human kindness  English\n",
       "4  Touch with a barge-pole - Wouldn't  English"
      ]
     },
     "execution_count": 2,
     "metadata": {},
     "output_type": "execute_result"
    }
   ],
   "source": [
    "# import the data into pandas pd\n",
    "data_df = pd.read_csv('lang_data.csv')\n",
    "\n",
    "# convert 'text' column to string\n",
    "data_df['text'] = data_df['text'].astype(str)\n",
    "\n",
    "# show the size of the matrix and provide a brief description\n",
    "print(\"This dataset has %d observations and %d columns containing the instance example and its predictor.\" %(data_df.shape[0],data_df.shape[1]))\n",
    "print(\"There are %d distinct language categories: %s, %s and %s\" %(len(data_df['language'].unique()),data_df['language'].unique()[0],data_df['language'].unique()[1],data_df['language'].unique()[2]))\n",
    "\n",
    "# show the first 5 observations of the dataset\n",
    "data_df.head()"
   ]
  },
  {
   "cell_type": "code",
   "execution_count": 3,
   "metadata": {},
   "outputs": [
    {
     "name": "stdout",
     "output_type": "stream",
     "text": [
      "2077\n",
      "671\n",
      "91\n"
     ]
    }
   ],
   "source": [
    "print(len(data_df[data_df['language'] == 'English']))\n",
    "print(len(data_df[data_df['language'] == 'Afrikaans']))\n",
    "print(len(data_df[data_df['language'] == 'Nederlands']))"
   ]
  },
  {
   "cell_type": "markdown",
   "metadata": {},
   "source": [
    "Significant class imbalance which will compromise prediction performance if not addressed."
   ]
  },
  {
   "cell_type": "code",
   "execution_count": 4,
   "metadata": {},
   "outputs": [],
   "source": [
    "# define methods to clean text used in test/training & any language predictions\n",
    "\n",
    "# remove any empty lines\n",
    "def remove_newlines(text):\n",
    "    return text.replace(r\"\\n\" , \" \")\n",
    "\n",
    "# remove any numbers from the data\n",
    "def remove_numbers(text):\n",
    "    return re.sub(r\"^\\d+\\s|\\s\\d+\\s|\\s\\d+$\" , \" \" , text)\n",
    "\n",
    "# remove any 'nan' as previously seen in the dataset\n",
    "def remove_nan(text):\n",
    "    return text.replace(r\"nan\", \" \")\n",
    "\n",
    "# remove appostrophies first and replace with an empty string\n",
    "def remove_appostrophies(text):\n",
    "    return re.sub(r\"'\",\"\",text)\n",
    "\n",
    "# remove other punctuation\n",
    "def remove_punctuation(text):\n",
    "    return re.sub(r\"[^\\w\\s]\",\" \",text)\n",
    "\n",
    "# remove many spaces from the data\n",
    "def remove_duplicatespaces(text):\n",
    "    return re.sub(r\"\\s+\", \" \", text)\n",
    "\n",
    "# combine these operators all in a single method\n",
    "def clean_text(text):\n",
    "    \n",
    "    text = remove_newlines(text)\n",
    "    text= remove_numbers(text)\n",
    "    text = remove_nan(text)\n",
    "    text = remove_appostrophies(text)\n",
    "    text = remove_punctuation(text)\n",
    "    text = remove_duplicatespaces(text)\n",
    "    \n",
    "    return text"
   ]
  },
  {
   "cell_type": "code",
   "execution_count": 5,
   "metadata": {},
   "outputs": [],
   "source": [
    "# duplicate data contained in a string of text to pad out to a specified length\n",
    "def repeat_to_length(string_to_expand, length):\n",
    "    return (string_to_expand * (int(length/len(string_to_expand))+1))[:length]\n",
    "\n",
    "# extract the data from a pandas df and export to dictionary \n",
    "def data_category_combiner(data_df):\n",
    "    \n",
    "    english_data = []\n",
    "    afrikaans_data = []\n",
    "    nederlands_data = []\n",
    "    \n",
    "    for index, row in data_df.iterrows():\n",
    "        \n",
    "        if row['language'] == 'English':\n",
    "            sample_text = row['text']\n",
    "            english_data.append(sample_text)\n",
    "            \n",
    "        if row['language'] == 'Afrikaans':\n",
    "            sample_text = row['text']\n",
    "            afrikaans_data.append(sample_text)\n",
    "            \n",
    "        if row['language'] == 'Nederlands':\n",
    "            sample_text = row['text']\n",
    "            nederlands_data.append(sample_text)\n",
    "    \n",
    "    english_data = ','.join(english_data)\n",
    "    english_data = repeat_to_length(english_data, 400000)\n",
    "    english_data = clean_text(english_data)\n",
    "    \n",
    "    afrikaans_data = ','.join(afrikaans_data)\n",
    "    afrikaans_data = repeat_to_length(afrikaans_data, 400000)\n",
    "    afrikaans_data = clean_text(afrikaans_data)\n",
    "    \n",
    "    nederlands_data = ','.join(nederlands_data)\n",
    "    nederlands_data = repeat_to_length(nederlands_data, 400000)\n",
    "    nederlands_data = clean_text(nederlands_data)\n",
    "    \n",
    "    data_dict = { 0 : english_data, 1 : afrikaans_data, 2 : nederlands_data}\n",
    "    \n",
    "    return data_dict\n",
    "    \n",
    "data_dict = data_category_combiner(data_df)"
   ]
  },
  {
   "cell_type": "code",
   "execution_count": 6,
   "metadata": {},
   "outputs": [
    {
     "name": "stdout",
     "output_type": "stream",
     "text": [
      "(['a', 'b', 'c', 'd', 'e', 'f', 'g', 'h', 'i', 'j', 'k', 'l', 'm', 'n', 'o', 'p', 'q', 'r', 's', 't', 'u', 'v', 'w', 'x', 'y', 'z', 'ß', 'à', 'á', 'â', 'ä', 'æ', 'ç', 'è', 'é', 'ê', 'ì', 'í', 'î', 'ï', 'ñ', 'ò', 'ó', 'ô', 'ö', 'ù', 'ú', 'û', 'ü', 'ý', 'ÿ', 'č', 'ď', 'ě', 'ĺ', 'ľ', 'ň', 'œ', 'ŕ', 'ř', 'š', 'ť', 'ů', 'ž'], ['A', 'B', 'C', 'D', 'E', 'F', 'G', 'H', 'I', 'J', 'K', 'L', 'M', 'N', 'O', 'P', 'Q', 'R', 'S', 'T', 'U', 'V', 'W', 'X', 'Y', 'Z', 'À', 'Á', 'Â', 'Ä', 'Æ', 'Ç', 'È', 'É', 'Ê', 'Ì', 'Í', 'Î', 'Ï', 'Ñ', 'Ò', 'Ó', 'Ô', 'Ö', 'Ù', 'Ú', 'Û', 'Ü', 'Ý', 'Č', 'Ď', 'Ě', 'Ĺ', 'Ľ', 'Ň', 'Œ', 'Ŕ', 'Ř', 'Š', 'Ť', 'Ů', 'Ÿ', 'Ž'], 'abcdefghijklmnopqrstuvwxyzßàáâäæçèéêìíîïñòóôöùúûüýÿčďěĺľňœŕřšťůžABCDEFGHIJKLMNOPQRSTUVWXYZÀÁÂÄÆÇÈÉÊÌÍÎÏÑÒÓÔÖÙÚÛÜÝČĎĚĹĽŇŒŔŘŠŤŮŸŽ')\n"
     ]
    }
   ],
   "source": [
    "# define an alphabet of characters to support the count operation of a given string\n",
    "def define_alphabet():\n",
    "    \n",
    "    base_en = 'abcdefghijklmnopqrstuvwxyz'\n",
    "    german = 'äöüß'\n",
    "    italian = 'àèéìíòóùú'\n",
    "    french = 'àâæçéèêêîïôœùûüÿ'\n",
    "    spanish = 'áéíóúüñ'\n",
    "    czech = 'áčďéěíjňóřšťúůýž'\n",
    "    slovak = 'áäčďdzdžéíĺľňóôŕšťúýž'\n",
    "    all_lang_chars = base_en + german +  italian + french + spanish + czech + slovak\n",
    "    small_chars = list(set(list(all_lang_chars)))\n",
    "    small_chars.sort() \n",
    "    big_chars = list(set(list(all_lang_chars.upper())))\n",
    "    big_chars.sort()\n",
    "    letters_string = ''\n",
    "    letters = small_chars + big_chars\n",
    "    for letter in letters:\n",
    "        letters_string += letter\n",
    "        \n",
    "    return small_chars,big_chars,letters_string\n",
    "\n",
    "alphabet = define_alphabet()\n",
    "print(alphabet)"
   ]
  },
  {
   "cell_type": "code",
   "execution_count": 7,
   "metadata": {},
   "outputs": [],
   "source": [
    "# define the length of the text sample size to be extracted from the data dictionary items\n",
    "text_sample_size = 140\n",
    "\n",
    "# define the number of samples to be extracted from the data dictionary items for model training/validation\n",
    "num_lang_samples = 400\n",
    "\n",
    "languages_dict = { 0 : 'en', 1 :'afr', 2 : 'ned'}\n",
    "\n",
    "# method to determine language given language_id from languages_dict\n",
    "def decode_langid(lang_id):    \n",
    "    for language, language_id in languages_dict.items():\n",
    "        if language_id == lang_id:\n",
    "            return language\n",
    "        \n",
    "# method to pull out a text sample        \n",
    "def get_sample_text(file_content,start_index,sample_size):\n",
    "    \n",
    "    while not (file_content[start_index].isspace()):\n",
    "        start_index += 1\n",
    "    while file_content[start_index].isspace():\n",
    "        start_index += 1\n",
    "    end_index = start_index + sample_size \n",
    "    while not (file_content[end_index].isspace()):\n",
    "        end_index -= 1\n",
    "        \n",
    "    return file_content[start_index:end_index]"
   ]
  },
  {
   "cell_type": "code",
   "execution_count": 8,
   "metadata": {},
   "outputs": [],
   "source": [
    "# method to determine the count of characters given a string of text and the alphabet over which to iterate over\n",
    "def count_chars(text,alphabet):\n",
    "    \n",
    "    alphabet_counts = []\n",
    "    for letter in alphabet:\n",
    "        count = text.count(letter)\n",
    "        alphabet_counts.append(count)\n",
    "        \n",
    "    return alphabet_counts\n",
    "\n",
    "# populate an array of counts across the small and big letter alphabets\n",
    "def get_input_row(content,start_index,sample_size):\n",
    "    \n",
    "    sample_text = get_sample_text(content,start_index,sample_size)\n",
    "    counted_chars_all = count_chars(sample_text.lower(),alphabet[0])\n",
    "    counted_chars_big = count_chars(sample_text,alphabet[1])\n",
    "    all_parts = counted_chars_all + counted_chars_big\n",
    "    \n",
    "    return all_parts"
   ]
  },
  {
   "cell_type": "code",
   "execution_count": 9,
   "metadata": {},
   "outputs": [
    {
     "name": "stdout",
     "output_type": "stream",
     "text": [
      "1. Sample text: \n",
      " When the shit hits the fan Egg on Drag race As queer as a nine bob note Run the gauntlet Raining cats and dogs No laughing matter Run of the\n",
      "\n",
      "2. Reference alphabet: \n",
      " ['a', 'b', 'c', 'd', 'e', 'f', 'g', 'h', 'i', 'j', 'k', 'l', 'm', 'n', 'o', 'p', 'q', 'r', 's', 't', 'u', 'v', 'w', 'x', 'y', 'z', 'ß', 'à', 'á', 'â', 'ä', 'æ', 'ç', 'è', 'é', 'ê', 'ì', 'í', 'î', 'ï', 'ñ', 'ò', 'ó', 'ô', 'ö', 'ù', 'ú', 'û', 'ü', 'ý', 'ÿ', 'č', 'ď', 'ě', 'ĺ', 'ľ', 'ň', 'œ', 'ŕ', 'ř', 'š', 'ť', 'ů', 'ž'] ['A', 'B', 'C', 'D', 'E', 'F', 'G', 'H', 'I', 'J', 'K', 'L', 'M', 'N', 'O', 'P', 'Q', 'R', 'S', 'T', 'U', 'V', 'W', 'X', 'Y', 'Z', 'À', 'Á', 'Â', 'Ä', 'Æ', 'Ç', 'È', 'É', 'Ê', 'Ì', 'Í', 'Î', 'Ï', 'Ñ', 'Ò', 'Ó', 'Ô', 'Ö', 'Ù', 'Ú', 'Û', 'Ü', 'Ý', 'Č', 'Ď', 'Ě', 'Ĺ', 'Ľ', 'Ň', 'Œ', 'Ŕ', 'Ř', 'Š', 'Ť', 'Ů', 'Ÿ', 'Ž']\n",
      "\n",
      "3. Sample character count: \n",
      " [12, 2, 2, 3, 13, 2, 8, 8, 6, 0, 0, 2, 1, 14, 6, 0, 1, 7, 6, 12, 5, 0, 1, 0, 0, 0, 0, 0, 0, 0, 0, 0, 0, 0, 0, 0, 0, 0, 0, 0, 0, 0, 0, 0, 0, 0, 0, 0, 0, 0, 0, 0, 0, 0, 0, 0, 0, 0, 0, 0, 0, 0, 0, 0, 1, 0, 0, 1, 1, 0, 0, 0, 0, 0, 0, 0, 0, 1, 0, 0, 0, 3, 0, 0, 0, 0, 1, 0, 0, 0, 0, 0, 0, 0, 0, 0, 0, 0, 0, 0, 0, 0, 0, 0, 0, 0, 0, 0, 0, 0, 0, 0, 0, 0, 0, 0, 0, 0, 0, 0, 0, 0, 0, 0, 0, 0, 0]\n",
      "\n",
      "Done.\n"
     ]
    }
   ],
   "source": [
    "# illustrate an example string pulled from the data dictionary and the array representing the count of characters defined by the alphabet\n",
    "random_index = random.randrange(0,text_sample_size)\n",
    "sample_text = get_sample_text(data_dict[0],random_index,text_sample_size)\n",
    "print (\"1. Sample text: \\n\",clean_text(sample_text))\n",
    "print(\"\")\n",
    "print (\"2. Reference alphabet: \\n\",alphabet[0],alphabet[1])\n",
    "print(\"\")\n",
    "sample_input_row = get_input_row(data_dict[0],random_index,text_sample_size)\n",
    "print (\"3. Sample character count: \\n\",sample_input_row)\n",
    "print(\"\\nDone.\")"
   ]
  },
  {
   "cell_type": "code",
   "execution_count": 10,
   "metadata": {},
   "outputs": [
    {
     "name": "stdout",
     "output_type": "stream",
     "text": [
      "Processing language:  en\n",
      "Number of characters in this file: 391575  | # possible samples :  3083\n",
      "Processing language:  afr\n",
      "Number of characters in this file: 382741  | # possible samples :  3013\n",
      "Processing language:  ned\n",
      "Number of characters in this file: 368225  | # possible samples :  2899\n",
      "\n",
      "Done.\n"
     ]
    }
   ],
   "source": [
    "# create an empty numpy array of size 1200 by 128\n",
    "input_size = len(sample_input_row)\n",
    "sample_data = np.empty((num_lang_samples*len(languages_dict),input_size+1),dtype = np.uint16)\n",
    "\n",
    "lang_seq = 0\n",
    "\n",
    "# populate the numpy array with character count observations representing strings of text for the 3 categories \n",
    "for lang_code in languages_dict:\n",
    "    print(\"Processing language: \", languages_dict[lang_code] )\n",
    "    start_index = 0\n",
    "    file_content = data_dict[lang_code]\n",
    "    content_length = len(file_content)\n",
    "    remaining = content_length - text_sample_size*num_lang_samples\n",
    "    jump = int(((remaining/num_lang_samples)*3)/4)\n",
    "    print (\"Number of characters in this file:\" , content_length , \" | # possible samples : \", int(content_length/input_size))\n",
    "    for idx in range(num_lang_samples):\n",
    "        input_row = get_input_row(file_content,start_index,text_sample_size)\n",
    "        sample_data[num_lang_samples*lang_seq+idx] = input_row + [lang_code]\n",
    "        start_index += text_sample_size\n",
    "    del file_content\n",
    "    lang_seq += 1\n",
    "\n",
    "print(\"\\nDone.\")\n",
    "    \n",
    "# shuffle the category observations\n",
    "np.random.shuffle(sample_data)\n"
   ]
  },
  {
   "cell_type": "code",
   "execution_count": 11,
   "metadata": {},
   "outputs": [
    {
     "name": "stdout",
     "output_type": "stream",
     "text": [
      "Example data before standardizing:\n",
      "\n",
      "X : \n",
      " [14.  0.  0.  5. 27.  0.  6.  1.  4.  1.  7.  7.  4. 15.  1.  1.  0.  3.\n",
      "  3.  5.  0.  1.  1.  0.  0.  2.  0.  0.  0.  0.  0.  0.  0.  0.  2.  0.\n",
      "  0.  0.  0.  0.  0.  0.  0.  0.  0.  0.  0.  0.  0.  0.  0.  0.  0.  0.\n",
      "  0.  0.  0.  0.  0.  0.  0.  0.  0.  0.  1.  0.  0.  0.  1.  0.  1.  0.\n",
      "  0.  0.  0.  0.  1.  0.  0.  0.  0.  0.  0.  1.  0.  0.  0.  0.  0.  0.\n",
      "  0.  0.  0.  0.  0.  0.  0.  0.  0.  0.  0.  0.  0.  0.  0.  0.  0.  0.\n",
      "  0.  0.  0.  0.  0.  0.  0.  0.  0.  0.  0.  0.  0.  0.  0.  0.  0.  0.\n",
      "  0.]\n",
      "\n",
      "Y : \n",
      " 2.0\n",
      "\n",
      "----------------------------------------------------------------------------------------------------\n",
      "\n",
      "Example data after standardizing:\n",
      "\n",
      "X : \n",
      " [ 1.72718329 -1.41579972 -0.77708501 -0.20630558  1.6490092  -0.78813398\n",
      "  1.33959394 -1.14000242 -1.29861948 -0.16887511  1.87180607  1.03858995\n",
      "  0.78682163  1.96027923 -2.10580891 -0.57482152 -0.1935107  -1.15067333\n",
      " -1.12974602 -0.95441149 -1.5891211  -0.33061175 -0.78456171 -0.19529052\n",
      " -0.92166377  1.00801927  0.         -0.05783149  0.          0.\n",
      "  0.          0.          0.          0.          3.55484501 -0.22196863\n",
      "  0.          0.          0.          0.          0.          0.\n",
      "  0.         -0.07660001 -0.05783149  0.          0.         -0.05783149\n",
      "  0.          0.          0.          0.          0.          0.\n",
      "  0.          0.          0.          0.          0.          0.\n",
      "  0.          0.          0.          0.          0.77785316 -0.59390289\n",
      " -0.35759318 -0.70211578  1.45922498 -0.34278057  1.28519226 -0.62649756\n",
      " -0.41104574 -0.58249329 -0.30283571 -0.38760987  1.51751215 -0.30621944\n",
      " -0.41705485 -0.38045967 -0.11987596 -0.33515822 -0.60026984  0.78812777\n",
      " -0.2318842  -0.37529677 -0.58722022 -0.04356068 -0.12920139 -0.25934454\n",
      " -0.05006262  0.          0.          0.          0.          0.\n",
      "  0.          0.          0.          0.          0.          0.\n",
      "  0.          0.          0.          0.          0.          0.\n",
      "  0.          0.          0.          0.          0.          0.\n",
      "  0.          0.          0.          0.          0.          0.\n",
      "  0.          0.          0.          0.          0.          0.\n",
      "  0.        ]\n",
      "\n",
      "Y : \n",
      " [0. 0. 1.]\n",
      "\n",
      "Done.\n"
     ]
    }
   ],
   "source": [
    "languages_dict = {'en':0,'afr':1,'ned':2}\n",
    "\n",
    "# convert the numpy sample_data array to float\n",
    "sample_data = sample_data.astype(np.float64)\n",
    "\n",
    "# X and Y split\n",
    "X = sample_data[:,0:input_size]\n",
    "Y = sample_data[:,input_size]\n",
    "\n",
    "# random index to check random sample\n",
    "random_index = random.randrange(0,X.shape[0])\n",
    "print(\"Example data before standardizing:\")\n",
    "print(\"\\nX : \\n\", X[random_index,])\n",
    "print(\"\\nY : \\n\", Y[random_index])\n",
    "\n",
    "\n",
    "# X preprocessing\n",
    "# use standard scaler to scale the X predictor matrix\n",
    "standard_scaler = preprocessing.StandardScaler().fit(X)\n",
    "X = standard_scaler.transform(X)   \n",
    "\n",
    "print(\"\")\n",
    "print(\"-\"*100)\n",
    "print(\"\")\n",
    "\n",
    "# convert category from 0.0 ,1.0 ,2.0 to [1. 0. 0.], [0. 1. 0.] and [0. 0. 1.]\n",
    "Y = keras.utils.to_categorical(Y, num_classes=len(languages_dict))\n",
    "\n",
    "# see an example before and after the scaling and one-hot encoding\n",
    "print(\"Example data after standardizing:\")\n",
    "print(\"\\nX : \\n\", X[random_index,])\n",
    "print(\"\\nY : \\n\", Y[random_index])\n",
    "\n",
    "# split the data into training and test sets with a specific seed for model duplicity\n",
    "seed = 42\n",
    "X_train, X_test, Y_train, Y_test = train_test_split(X, Y, test_size=0.20, random_state=seed)\n",
    "print(\"\\nDone.\")\n"
   ]
  },
  {
   "cell_type": "code",
   "execution_count": 12,
   "metadata": {},
   "outputs": [],
   "source": [
    "# instantiate a model instance and add layers to the neural network\n",
    "model = Sequential()\n",
    "model.add(Dense(500,input_dim=input_size,kernel_initializer=\"glorot_uniform\",activation=\"sigmoid\"))\n",
    "model.add(Dropout(0.5))\n",
    "model.add(Dense(300,kernel_initializer=\"glorot_uniform\",activation=\"sigmoid\"))\n",
    "model.add(Dropout(0.5))\n",
    "model.add(Dense(100,kernel_initializer=\"glorot_uniform\",activation=\"sigmoid\"))\n",
    "model.add(Dropout(0.5))\n",
    "model.add(Dense(len(languages_dict),kernel_initializer=\"glorot_uniform\",activation=\"softmax\"))\n",
    "model_optimizer = keras.optimizers.Adam(lr=0.001, beta_1=0.9, beta_2=0.999, epsilon=1e-08, decay=0.0)\n",
    "\n",
    "# compile the elements of the the neural network\n",
    "model.compile(loss='categorical_crossentropy',\n",
    "              optimizer=model_optimizer,\n",
    "              metrics=['accuracy'])\n"
   ]
  },
  {
   "cell_type": "code",
   "execution_count": 13,
   "metadata": {},
   "outputs": [
    {
     "name": "stdout",
     "output_type": "stream",
     "text": [
      "Train on 864 samples, validate on 96 samples\n",
      "Epoch 1/12\n",
      " - 1s - loss: 1.2819 - acc: 0.3438 - val_loss: 1.1122 - val_acc: 0.6146\n",
      "Epoch 2/12\n",
      " - 0s - loss: 1.1978 - acc: 0.3623 - val_loss: 0.9883 - val_acc: 0.3646\n",
      "Epoch 3/12\n",
      " - 0s - loss: 1.0387 - acc: 0.4433 - val_loss: 0.8919 - val_acc: 0.6354\n",
      "Epoch 4/12\n",
      " - 0s - loss: 0.8952 - acc: 0.5845 - val_loss: 0.6403 - val_acc: 0.9583\n",
      "Epoch 5/12\n",
      " - 0s - loss: 0.6902 - acc: 0.7025 - val_loss: 0.4191 - val_acc: 0.9167\n",
      "Epoch 6/12\n",
      " - 0s - loss: 0.4740 - acc: 0.8299 - val_loss: 0.2724 - val_acc: 0.9688\n",
      "Epoch 7/12\n",
      " - 0s - loss: 0.3027 - acc: 0.9155 - val_loss: 0.1637 - val_acc: 0.9688\n",
      "Epoch 8/12\n",
      " - 0s - loss: 0.2250 - acc: 0.9363 - val_loss: 0.1005 - val_acc: 0.9792\n",
      "Epoch 9/12\n",
      " - 0s - loss: 0.1515 - acc: 0.9595 - val_loss: 0.0717 - val_acc: 0.9792\n",
      "Epoch 10/12\n",
      " - 0s - loss: 0.1074 - acc: 0.9792 - val_loss: 0.0467 - val_acc: 1.0000\n",
      "Epoch 11/12\n",
      " - 0s - loss: 0.0857 - acc: 0.9838 - val_loss: 0.0392 - val_acc: 1.0000\n",
      "Epoch 12/12\n",
      " - 0s - loss: 0.0656 - acc: 0.9873 - val_loss: 0.0305 - val_acc: 1.0000\n"
     ]
    }
   ],
   "source": [
    "# train the compiled model on the training data with a train/validation split of \n",
    "history = model.fit(X_train,Y_train,\n",
    "          epochs=12,\n",
    "          validation_split=0.10,\n",
    "          batch_size=64,\n",
    "          verbose=2,\n",
    "          shuffle=True)"
   ]
  },
  {
   "cell_type": "code",
   "execution_count": 14,
   "metadata": {},
   "outputs": [
    {
     "name": "stdout",
     "output_type": "stream",
     "text": [
      "240/240 [==============================] - 0s 113us/step\n",
      "acc: 98.75%\n"
     ]
    }
   ],
   "source": [
    "scores = model.evaluate(X_test, Y_test, verbose=1)\n",
    "print(\"%s: %.2f%%\" % (model.metrics_names[1], scores[1]*100))"
   ]
  },
  {
   "cell_type": "code",
   "execution_count": 15,
   "metadata": {},
   "outputs": [
    {
     "name": "stdout",
     "output_type": "stream",
     "text": [
      "             precision    recall  f1-score   support\n",
      "\n",
      "         en       1.00      0.99      0.99        75\n",
      "        afr       0.99      0.98      0.98        82\n",
      "        ned       0.98      1.00      0.99        83\n",
      "\n",
      "avg / total       0.99      0.99      0.99       240\n",
      "\n"
     ]
    }
   ],
   "source": [
    "# prepare the data for scikit-learn classification report\n",
    "Y_pred = model.predict_classes(X_test)\n",
    "Y_pred = keras.utils.to_categorical(Y_pred, num_classes=len(languages_dict))\n",
    "\n",
    "# call the classification report class\n",
    "target_names =  list(languages_dict.keys())\n",
    "print(classification_report(Y_test, Y_pred, target_names=target_names))\n"
   ]
  },
  {
   "cell_type": "code",
   "execution_count": 16,
   "metadata": {},
   "outputs": [
    {
     "data": {
      "image/png": "[encoded data removed]",
      "text/plain": [
       "<matplotlib.figure.Figure at 0x256549be0b8>"
      ]
     },
     "metadata": {},
     "output_type": "display_data"
    }
   ],
   "source": [
    "# show plot accuracy changes during training using seaborn\n",
    "sns.set_style(\"darkgrid\")\n",
    "sns.set(font_scale = 1.2)\n",
    "plt.plot(history.history['acc'])\n",
    "plt.plot(history.history['val_acc'])\n",
    "plt.title('Accuracy across epochs')\n",
    "plt.ylabel('Accuracy level')\n",
    "plt.xlabel('Epoch')\n",
    "plt.legend(['Train', 'Test'], loc='lower right')\n",
    "plt.show()"
   ]
  },
  {
   "cell_type": "code",
   "execution_count": 17,
   "metadata": {},
   "outputs": [
    {
     "data": {
      "image/png": "[encoded data removed]",
      "text/plain": [
       "<matplotlib.figure.Figure at 0x25654d16dd8>"
      ]
     },
     "metadata": {},
     "output_type": "display_data"
    }
   ],
   "source": [
    "# show plot of loss changes during training\n",
    "sns.set_style(\"darkgrid\")\n",
    "sns.set(font_scale = 1.2)\n",
    "plt.plot(history.history['loss'])\n",
    "plt.plot(history.history['val_loss'])\n",
    "plt.title('Model loss')\n",
    "plt.ylabel('Loss')\n",
    "plt.xlabel('Epoch')\n",
    "plt.legend(['train', 'test'], loc='upper right')\n",
    "\n",
    "plt.show()"
   ]
  },
  {
   "cell_type": "code",
   "execution_count": 18,
   "metadata": {},
   "outputs": [
    {
     "name": "stdout",
     "output_type": "stream",
     "text": [
      "Text: Looking for the meanings of words, phrases, and ex ... -> Predicted lang:  en\n",
      "Text: Verskeie organisasies en individue met ’n liefde e ... -> Predicted lang:  afr\n",
      "Text: Alle mensen worden vrij en gelijk in waardigheid e ... -> Predicted lang:  ned\n"
     ]
    }
   ],
   "source": [
    "# method to test a given string and return the trained model prediction\n",
    "\n",
    "en_text = \"Looking for the meanings of words, phrases, and expressions? We provide hundreds of thousands of definitions, synonyms, antonyms, and pronunciations for English and other languages, derived from our language research and expert analysis. We also offer a unique set of examples of real usage, as well as guides to\"\n",
    "afr_text = \"Verskeie organisasies en individue met ’n liefde en passie vir Afrikaans het saamgekom om Afrikaans in haar verskillende vorme te vier en te verken. Ons nooi jou saam op hierdie ontdekkingstog die wye Afrikaanse landskap in. Ons vra mede-avontuurlustiges om jul unieke Afrikaanse leefwêrelde met ons te deel en ons te verras met jul uitkyk op en ervaring van Afrikaans.\"\n",
    "ned_text = \"Alle mensen worden vrij en gelijk in waardigheid en rechten geboren. Zij zijn begiftigd met verstand en geweten, en behoren zich jegens elkander in een geest van broederschap te gedragen.\"\n",
    "\n",
    "\n",
    "text_texts_array = [en_text, afr_text, ned_text]\n",
    "test_array = []\n",
    "for item in text_texts_array:\n",
    "    cleaned_text = clean_text(item)\n",
    "    input_row = get_input_row(cleaned_text,0,text_sample_size)\n",
    "    test_array.append(input_row)\n",
    "\n",
    "test_array = standard_scaler.transform(test_array)     \n",
    "Y_pred = model.predict_classes(test_array)\n",
    "for id in range(len(test_array)):\n",
    "    print (\"Text:\",text_texts_array[id][:50],\"... -> Predicted lang: \", decode_langid(Y_pred[id]))"
   ]
  },
  {
   "cell_type": "code",
   "execution_count": 19,
   "metadata": {},
   "outputs": [
    {
     "name": "stdout",
     "output_type": "stream",
     "text": [
      "Een van de meest bekende schepen die tot de 17e eeuwse maritieme macht van de Verenigde Oost-Indische Compagnie behoorde, is het jacht de Sperwer geweest. Vaartuigen van de V.O.C. bleken zo vaak niet bestand tegen de stormen die in de gevaarlijke zeeën van Oost-Azië voorkwamen, dat het buiten de kring van de belanghebbenden amper bekend is geworden dat dit jacht in 1653 op zijn reis van Taiwan naar Japan de haven van bestemming niet bereikte.\n",
      "\n",
      "Text example snippet: Een van de meest bekende schepen die tot de 17e ee ... -> Predicted lang:  ned\n"
     ]
    }
   ],
   "source": [
    "# function to receive a text string from a user and classify the predicted language\n",
    "def return_prediction():\n",
    "    \n",
    "    example_string=input() \n",
    "    minimum_string_length = 140\n",
    "    \n",
    "    try:\n",
    "        assert len(example_string) > minimum_string_length\n",
    "        cleaned_text = clean_text(example_string)\n",
    "        text_texts_array = [example_string]\n",
    "        test_array = []\n",
    "        for item in text_texts_array:\n",
    "            cleaned_text = clean_text(item)\n",
    "            input_row = get_input_row(cleaned_text,0,text_sample_size)\n",
    "            test_array.append(input_row)\n",
    "        test_array = standard_scaler.transform(test_array)\n",
    "        Y_pred = model.predict_classes(test_array)\n",
    "        print (\"\\nText example snippet:\", example_string[:50] , \"... -> Predicted lang: \", decode_langid(Y_pred))\n",
    "    \n",
    "    except AssertionError:\n",
    "        print ('\\nProgram Error: Please provide phrase longer than %d characters for classification.'  %(minimum_string_length))\n",
    "        exit(1)\n",
    "    \n",
    "return_prediction()"
   ]
  },
  {
   "cell_type": "code",
   "execution_count": null,
   "metadata": {},
   "outputs": [],
   "source": [
    "# serialize model to JSON\n",
    "model_json = model.to_json()\n",
    "with open(\"model/model.json\", \"w\") as json_file:\n",
    "    json_file.write(model_json)\n",
    "    \n",
    "# serialize weights to HDF5\n",
    "model.save_weights(\"model/model.h5\")\n",
    "print(\"Saved model to disk\")"
   ]
  },
  {
   "cell_type": "code",
   "execution_count": null,
   "metadata": {},
   "outputs": [],
   "source": []
  }
 ],
 "metadata": {
  "kernelspec": {
   "display_name": "Python 3",
   "language": "python",
   "name": "python3"
  },
  "language_info": {
   "codemirror_mode": {
    "name": "ipython",
    "version": 3
   },
   "file_extension": ".py",
   "mimetype": "text/x-python",
   "name": "python",
   "nbconvert_exporter": "python",
   "pygments_lexer": "ipython3",
   "version": "3.6.4"
  }
 },
 "nbformat": 4,
 "nbformat_minor": 2
}
